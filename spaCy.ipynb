{
  "nbformat": 4,
  "nbformat_minor": 0,
  "metadata": {
    "colab": {
      "name": "spaCy.ipynb",
      "provenance": [],
      "collapsed_sections": []
    },
    "kernelspec": {
      "name": "python3",
      "display_name": "Python 3"
    },
    "language_info": {
      "name": "python"
    }
  },
  "cells": [
    {
      "cell_type": "code",
      "metadata": {
        "colab": {
          "base_uri": "https://localhost:8080/"
        },
        "id": "YnunjXijBZSy",
        "outputId": "1192b3f1-1fce-4bb8-f9a1-c63203cf516f"
      },
      "source": [
        "!spacy download es_core_news_sm"
      ],
      "execution_count": null,
      "outputs": [
        {
          "output_type": "stream",
          "text": [
            "Collecting es_core_news_sm==2.2.5\n",
            "\u001b[?25l  Downloading https://github.com/explosion/spacy-models/releases/download/es_core_news_sm-2.2.5/es_core_news_sm-2.2.5.tar.gz (16.2MB)\n",
            "\u001b[K     |████████████████████████████████| 16.2MB 1.2MB/s \n",
            "\u001b[?25hRequirement already satisfied: spacy>=2.2.2 in /usr/local/lib/python3.7/dist-packages (from es_core_news_sm==2.2.5) (2.2.4)\n",
            "Requirement already satisfied: wasabi<1.1.0,>=0.4.0 in /usr/local/lib/python3.7/dist-packages (from spacy>=2.2.2->es_core_news_sm==2.2.5) (0.8.2)\n",
            "Requirement already satisfied: srsly<1.1.0,>=1.0.2 in /usr/local/lib/python3.7/dist-packages (from spacy>=2.2.2->es_core_news_sm==2.2.5) (1.0.5)\n",
            "Requirement already satisfied: catalogue<1.1.0,>=0.0.7 in /usr/local/lib/python3.7/dist-packages (from spacy>=2.2.2->es_core_news_sm==2.2.5) (1.0.0)\n",
            "Requirement already satisfied: cymem<2.1.0,>=2.0.2 in /usr/local/lib/python3.7/dist-packages (from spacy>=2.2.2->es_core_news_sm==2.2.5) (2.0.5)\n",
            "Requirement already satisfied: requests<3.0.0,>=2.13.0 in /usr/local/lib/python3.7/dist-packages (from spacy>=2.2.2->es_core_news_sm==2.2.5) (2.23.0)\n",
            "Requirement already satisfied: numpy>=1.15.0 in /usr/local/lib/python3.7/dist-packages (from spacy>=2.2.2->es_core_news_sm==2.2.5) (1.19.5)\n",
            "Requirement already satisfied: thinc==7.4.0 in /usr/local/lib/python3.7/dist-packages (from spacy>=2.2.2->es_core_news_sm==2.2.5) (7.4.0)\n",
            "Requirement already satisfied: blis<0.5.0,>=0.4.0 in /usr/local/lib/python3.7/dist-packages (from spacy>=2.2.2->es_core_news_sm==2.2.5) (0.4.1)\n",
            "Requirement already satisfied: plac<1.2.0,>=0.9.6 in /usr/local/lib/python3.7/dist-packages (from spacy>=2.2.2->es_core_news_sm==2.2.5) (1.1.3)\n",
            "Requirement already satisfied: preshed<3.1.0,>=3.0.2 in /usr/local/lib/python3.7/dist-packages (from spacy>=2.2.2->es_core_news_sm==2.2.5) (3.0.5)\n",
            "Requirement already satisfied: setuptools in /usr/local/lib/python3.7/dist-packages (from spacy>=2.2.2->es_core_news_sm==2.2.5) (54.2.0)\n",
            "Requirement already satisfied: tqdm<5.0.0,>=4.38.0 in /usr/local/lib/python3.7/dist-packages (from spacy>=2.2.2->es_core_news_sm==2.2.5) (4.41.1)\n",
            "Requirement already satisfied: murmurhash<1.1.0,>=0.28.0 in /usr/local/lib/python3.7/dist-packages (from spacy>=2.2.2->es_core_news_sm==2.2.5) (1.0.5)\n",
            "Requirement already satisfied: importlib-metadata>=0.20; python_version < \"3.8\" in /usr/local/lib/python3.7/dist-packages (from catalogue<1.1.0,>=0.0.7->spacy>=2.2.2->es_core_news_sm==2.2.5) (3.10.1)\n",
            "Requirement already satisfied: idna<3,>=2.5 in /usr/local/lib/python3.7/dist-packages (from requests<3.0.0,>=2.13.0->spacy>=2.2.2->es_core_news_sm==2.2.5) (2.10)\n",
            "Requirement already satisfied: chardet<4,>=3.0.2 in /usr/local/lib/python3.7/dist-packages (from requests<3.0.0,>=2.13.0->spacy>=2.2.2->es_core_news_sm==2.2.5) (3.0.4)\n",
            "Requirement already satisfied: urllib3!=1.25.0,!=1.25.1,<1.26,>=1.21.1 in /usr/local/lib/python3.7/dist-packages (from requests<3.0.0,>=2.13.0->spacy>=2.2.2->es_core_news_sm==2.2.5) (1.24.3)\n",
            "Requirement already satisfied: certifi>=2017.4.17 in /usr/local/lib/python3.7/dist-packages (from requests<3.0.0,>=2.13.0->spacy>=2.2.2->es_core_news_sm==2.2.5) (2020.12.5)\n",
            "Requirement already satisfied: zipp>=0.5 in /usr/local/lib/python3.7/dist-packages (from importlib-metadata>=0.20; python_version < \"3.8\"->catalogue<1.1.0,>=0.0.7->spacy>=2.2.2->es_core_news_sm==2.2.5) (3.4.1)\n",
            "Requirement already satisfied: typing-extensions>=3.6.4; python_version < \"3.8\" in /usr/local/lib/python3.7/dist-packages (from importlib-metadata>=0.20; python_version < \"3.8\"->catalogue<1.1.0,>=0.0.7->spacy>=2.2.2->es_core_news_sm==2.2.5) (3.7.4.3)\n",
            "Building wheels for collected packages: es-core-news-sm\n",
            "  Building wheel for es-core-news-sm (setup.py) ... \u001b[?25l\u001b[?25hdone\n",
            "  Created wheel for es-core-news-sm: filename=es_core_news_sm-2.2.5-cp37-none-any.whl size=16172936 sha256=402f456958796e5904cd46d8f92a655de4b84067ac57815f7530f17103d7760e\n",
            "  Stored in directory: /tmp/pip-ephem-wheel-cache-c5tzjx9e/wheels/05/4f/66/9d0c806f86de08e8645d67996798c49e1512f9c3a250d74242\n",
            "Successfully built es-core-news-sm\n",
            "Installing collected packages: es-core-news-sm\n",
            "Successfully installed es-core-news-sm-2.2.5\n",
            "\u001b[38;5;2m✔ Download and installation successful\u001b[0m\n",
            "You can now load the model via spacy.load('es_core_news_sm')\n"
          ],
          "name": "stdout"
        }
      ]
    },
    {
      "cell_type": "code",
      "metadata": {
        "id": "1dU9iFMrB99t"
      },
      "source": [
        "#Restart Runtime\n",
        "import os\n",
        "os.kill(os.getpid(), 9)"
      ],
      "execution_count": null,
      "outputs": []
    },
    {
      "cell_type": "code",
      "metadata": {
        "id": "sqV3jP0__D0o"
      },
      "source": [
        "import spacy\n",
        "spacy.prefer_gpu()\n",
        "\n",
        "nlp = spacy.load('es_core_news_sm')\n",
        "doc = nlp(\"Texto de prueba, analizar el texto.\")"
      ],
      "execution_count": null,
      "outputs": []
    },
    {
      "cell_type": "code",
      "metadata": {
        "colab": {
          "base_uri": "https://localhost:8080/"
        },
        "id": "Lgq4QJHv_VwJ",
        "outputId": "399c66ff-57bd-4641-9d3c-981ed0ec3191"
      },
      "source": [
        "#SHow( 'verb, adp, noun, punct, etc)\n",
        "for palabra in doc:\n",
        "  print(palabra, palabra.pos_)"
      ],
      "execution_count": null,
      "outputs": [
        {
          "output_type": "stream",
          "text": [
            "Texto NOUN\n",
            "de ADP\n",
            "prueba NOUN\n",
            ", PUNCT\n",
            "analizar VERB\n",
            "el DET\n",
            "texto NOUN\n",
            ". PUNCT\n"
          ],
          "name": "stdout"
        }
      ]
    },
    {
      "cell_type": "code",
      "metadata": {
        "colab": {
          "base_uri": "https://localhost:8080/"
        },
        "id": "Lk-C0SkDChy6",
        "outputId": "d288ec1a-ca6c-47dc-ccad-51122d0ed059"
      },
      "source": [
        "doc2 = nlp(\"Segundo texto de prueba. Seguna frase. Ultima frase\")\n",
        "\n",
        "#Sentences\n",
        "for frase in doc2.sents:\n",
        "  print(frase)"
      ],
      "execution_count": null,
      "outputs": [
        {
          "output_type": "stream",
          "text": [
            "Segundo texto de prueba.\n",
            "Seguna frase.\n",
            "Ultima frase\n"
          ],
          "name": "stdout"
        }
      ]
    },
    {
      "cell_type": "code",
      "metadata": {
        "colab": {
          "base_uri": "https://localhost:8080/"
        },
        "id": "S9nDrmspCzNy",
        "outputId": "521cca3b-181b-418f-c9a7-19163fb3e6b3"
      },
      "source": [
        "doc3 = nlp(\"EL distrito de San Anton esta ubicado en la zona norte de la provincia de Azangaro  departamento  Puno.\")\n",
        "\n",
        "#Nouns\n",
        "for parte in doc3.noun_chunks:\n",
        "  print(parte)"
      ],
      "execution_count": null,
      "outputs": [
        {
          "output_type": "stream",
          "text": [
            "EL distrito\n",
            "San Anton\n",
            "la zona\n",
            "la provincia\n",
            "Azangaro\n",
            "departamento  Puno\n"
          ],
          "name": "stdout"
        }
      ]
    },
    {
      "cell_type": "code",
      "metadata": {
        "colab": {
          "base_uri": "https://localhost:8080/"
        },
        "id": "aHBx7sHLEYZg",
        "outputId": "c0c257e7-dba9-40f5-e60d-f0729da48329"
      },
      "source": [
        "#Stopwords\n",
        "print(nlp.Defaults.stop_words)"
      ],
      "execution_count": null,
      "outputs": [
        {
          "output_type": "stream",
          "text": [
            "{'propio', 'todas', 'tuyo', 'otras', 'quién', 'intento', 'tendrán', 'tu', 'es', 'tuya', 'antaño', 'somos', 'ella', 'fui', 'fuimos', 'última', 'mismos', 'últimas', 'ambos', 'cierta', 'cuando', 'te', 'delante', 'estaba', 'poco', 'tal', 'dos', 'hago', 'intenta', 'este', 'primeros', 'ustedes', 'habia', 'consiguen', 'aquel', 'estará', 'han', 'final', 'afirmó', 'señaló', 'nosotros', 'considera', 'varios', 'dentro', 'una', 'eso', 'vamos', 'cuántos', 'verdad', 'he', 'usar', 'hicieron', 'esa', 'manera', 'dijeron', 'tú', 'esto', 'podrá', 'verdadero', 'misma', 'aquéllos', 'esta', 'quiere', 'dice', 'todo', 'verdadera', 'tarde', 'embargo', 'según', 'tras', 'medio', 'cómo', 'quiénes', 'podeis', 'donde', 'dias', 'como', 'parece', 'largo', 'sabemos', 'algunas', 'intentar', 'muy', 'para', 'otro', 'éste', 'acuerdo', 'nunca', 'explicó', 'tendrá', 'tuvo', 'haciendo', 'por', 'sabes', 'usais', 'nuevas', 'sino', 'asi', 'realizado', 'eras', 'conmigo', 'parte', 'solas', 'cualquier', 'pueda', 'ya', 'llegó', 'nuestras', 'durante', 'mencionó', 'mucho', 'qeu', 'debe', 'nos', 'serán', 'tenga', 'cuáles', 'través', 'demasiado', 'nuevos', 'algún', 'tercera', 'fuera', 'su', 'nuestros', 'tan', 'arriba', 'eran', 'ni', 'detras', 'vais', 'ultimo', 'míos', 'ahí', 'proximo', 'ti', 'que', 'tenido', 'claro', 'de', 'estoy', 'tampoco', 'adelante', 'posible', 'siempre', 'actualmente', 'con', 'trabajo', 'primera', 'nueva', 'total', 'todos', 'veces', 'tres', 'general', 'tengo', 'buenos', 'mio', 'quedó', 'contra', 'segundo', 'aquellas', 'cuales', 'cuándo', 'esos', 'momento', 'pasada', 'aquí', 'breve', 'ejemplo', 'vuestro', 'contigo', 'apenas', 'ex', 'tiempo', 'anterior', 'modo', 'aún', 'emplear', 'aun', 'consigue', 'quizás', 'cuenta', 'encima', 'pesar', 'estos', 'usas', 'la', 'enfrente', 'éstos', 'entre', 'mis', 'conseguimos', 'trata', 'dijo', 'se', 'estas', 'seis', 'poder', 'también', 'diferente', 'no', 'poca', 'respecto', 'estuvo', 'nuevo', 'algo', 'saber', 'cuánta', 'pero', 'podemos', 'mismo', 'empleais', 'añadió', 'mia', 'del', 'segun', 'éstas', 'allí', 'sois', 'vuestra', 'fue', 'aseguró', 'hacemos', 'ahi', 'antano', 'habían', 'ninguna', 'propia', 'ningunos', 'pueden', 'son', 'estais', 'un', 'propias', 'aquélla', 'horas', 'haces', 'luego', 'mi', 'nadie', 'saben', 'tener', 'da', 'raras', 'igual', 'quizas', 'puede', 'temprano', 'ellos', 'ningún', 'próximos', 'pudo', 'trabaja', 'queremos', 'comentó', 'gueno', 'empleo', 'usan', 'dia', 'pocas', 'existen', 'salvo', 'pais', 'primer', 'dar', 'suyo', 'trabajar', 'siguiente', 'tienen', 'hablan', 'bastante', 'están', 'pronto', 'puedo', 'buen', 'cierto', 'vuestras', 'dio', 'sea', 'aquella', 'muchos', 'ellas', 'atras', 'principalmente', 'conseguir', 'junto', 'aquél', 'hoy', 'vaya', 'diferentes', 'intentamos', 'ahora', 'últimos', 'será', 'cual', 'empleas', 'haya', 'deben', 'voy', 'arribaabajo', 'mayor', 'siete', 'pasado', 'ésas', 'manifestó', 'va', 'esas', 'además', 'ese', 'solos', 'agregó', 'otra', 'intentais', 'ciertas', 'siendo', 'mas', 'aquellos', 'hace', 'fueron', 'intentan', 'os', 'vosotras', 'sólo', 'propios', 'hay', 'partir', 'poner', 'mías', 'lleva', 'bueno', 'todavía', 'aqui', 'sobre', 'había', 'toda', 'usamos', 'porque', 'otros', 'quiza', 'unos', 'ampleamos', 'cuanto', 'tenía', 'día', 'dieron', 'despacio', 'podriamos', 'haceis', 'en', 'sabe', 'hacia', 'realizar', 'peor', 'aquéllas', 'cinco', 'mía', 'encuentra', 'próximo', 'desde', 'debajo', 'ésos', 'ninguno', 'si', 'informó', 'cuantas', 'habrá', 'sido', 'lado', 'aquello', 'cada', 'usted', 'podrían', 'hizo', 'cuantos', 'ello', 'entonces', 'ayer', 'trabajais', 'estar', 'valor', 'hecho', 'tanto', 'podrias', 'informo', 'lejos', 'aproximadamente', 'le', 'él', 'adrede', 'les', 'fin', 'habla', 'ha', 'tambien', 'sí', 'mismas', 'deprisa', 'eres', 'excepto', 'ser', 'bajo', 'yo', 'paìs', 'ademas', 'qué', 'nuestro', 'ésta', 'mí', 'sus', 'tus', 'soyos', 'mios', 'supuesto', 'cuanta', 'buenas', 'pocos', 'ciertos', 'tenemos', 'cosas', 'cerca', 'dan', 'cuatro', 'sean', 'estaban', 'podrian', 'trabajamos', 'suya', 'primero', 'último', 'antes', 'el', 'buena', 'sé', 'tuyos', 'uno', 'quienes', 'me', 'existe', 'alli', 'hacen', 'uso', 'podriais', 'nada', 'grandes', 'sabeis', 'creo', 'mucha', 'mal', 'hemos', 'haber', 'teneis', 'estado', 'incluso', 'expresó', 'estan', 'después', 'trabajan', 'está', 'alrededor', 'vuestros', 'detrás', 'podrán', 'nuestra', 'intentas', 'ocho', 'podría', 'pues', 'ver', 'mediante', 'solamente', 'dado', 'era', 'sigue', 'podria', 'menudo', 'muchas', 'vez', 'trabajas', 'hacerlo', 'consigues', 'lugar', 'ir', 'las', 'cuál', 'al', 'demás', 'enseguida', 'quien', 'dicho', 'así', 'hasta', 'segunda', 'ningunas', 'decir', 'aunque', 'eramos', 'ante', 'conocer', 'consideró', 'debido', 'dónde', 'indicó', 'solo', 'unas', 'realizó', 'gran', 'cuántas', 'llevar', 'ése', 'nosotras', 'dejó', 'sin', 'tuyas', 'los', 'mientras', 'mias', 'todavia', 'dicen', 'sería', 'hacer', 'algunos', 'sola', 'soy', 'más', 'días', 'estamos', 'lo', 'bien', 'tiene', 'varias', 'casi', 'emplean', 'repente', 'consigo', 'suyas', 'alguno', 'mejor', 'mío', 'menos', 'sera', 'despues', 'alguna', 'cuánto', 'usa', 'vosotros', 'estados', 'van', 'quizá', 'ésa', 'hubo'}\n"
          ],
          "name": "stdout"
        }
      ]
    },
    {
      "cell_type": "code",
      "metadata": {
        "colab": {
          "base_uri": "https://localhost:8080/"
        },
        "id": "m7phLPAOEqRP",
        "outputId": "381ad1e2-94c1-4831-982c-340ecf29816f"
      },
      "source": [
        "#Is Stop\n",
        "nlp.vocab['quién'].is_stop"
      ],
      "execution_count": null,
      "outputs": [
        {
          "output_type": "execute_result",
          "data": {
            "text/plain": [
              "True"
            ]
          },
          "metadata": {
            "tags": []
          },
          "execution_count": 13
        }
      ]
    },
    {
      "cell_type": "code",
      "metadata": {
        "colab": {
          "base_uri": "https://localhost:8080/"
        },
        "id": "5tSP7Z1mFFjb",
        "outputId": "cd3b7fbf-1cbb-4b4f-ba47-aacddccc3d52"
      },
      "source": [
        "nlp.vocab['puerta'].is_stop"
      ],
      "execution_count": null,
      "outputs": [
        {
          "output_type": "execute_result",
          "data": {
            "text/plain": [
              "False"
            ]
          },
          "metadata": {
            "tags": []
          },
          "execution_count": 14
        }
      ]
    },
    {
      "cell_type": "code",
      "metadata": {
        "id": "DlUhy2i6FcWl"
      },
      "source": [
        "#Add Stop Word\n",
        "#nlp.Defaults.stop_words.add('tambien')"
      ],
      "execution_count": null,
      "outputs": []
    },
    {
      "cell_type": "code",
      "metadata": {
        "id": "H1vBzsVbFq62"
      },
      "source": [
        "#Delete Stop Word\n",
        "#nlp.Defaults.stop_words.remove('tuyo')\n",
        "#nlp.vocab['tuyo'].is_stop = False\n"
      ],
      "execution_count": null,
      "outputs": []
    },
    {
      "cell_type": "code",
      "metadata": {
        "colab": {
          "base_uri": "https://localhost:8080/"
        },
        "id": "Y2Z9qpKNGQxF",
        "outputId": "6d23bcf9-3dd6-43cb-a6fb-5434da900efd"
      },
      "source": [
        "#Emparejamiento\n",
        "from spacy.matcher import Matcher\n",
        "\n",
        "matcher = Matcher(nlp.vocab)\n",
        "patron = [{'LOWER':'coche'}]\n",
        "matcher.add('coche',None,patron)\n",
        "\n",
        "doc = nlp(\"El coche electrico es el futuro y la contaminación disminuira con el uso del coche electrico\")\n",
        "\n",
        "coincidencias = matcher(doc)\n",
        "print(coincidencias)"
      ],
      "execution_count": null,
      "outputs": [
        {
          "output_type": "stream",
          "text": [
            "[(6709559885411883416, 1, 2), (6709559885411883416, 14, 15)]\n"
          ],
          "name": "stdout"
        }
      ]
    },
    {
      "cell_type": "code",
      "metadata": {
        "colab": {
          "base_uri": "https://localhost:8080/"
        },
        "id": "D76p3lJZHKjP",
        "outputId": "907d5339-dd6e-41ea-90bd-a29b39a63a06"
      },
      "source": [
        "for id, inicio, fin in coincidencias:\n",
        "  id_str = nlp.vocab.strings[id]\n",
        "  palabra = doc[inicio:fin]\n",
        "  print(id, id_str, inicio, fin, palabra.text)"
      ],
      "execution_count": null,
      "outputs": [
        {
          "output_type": "stream",
          "text": [
            "6709559885411883416 coche 1 2 coche\n",
            "6709559885411883416 coche 14 15 coche\n"
          ],
          "name": "stdout"
        }
      ]
    },
    {
      "cell_type": "code",
      "metadata": {
        "id": "e00JA8ZrKzR8"
      },
      "source": [
        "#Emparejamiento con datos de un fichero\n",
        "patron1 = [{'LOWER':'internet'}]\n",
        "patron2 = [{'LOWER':'negocio'}]\n",
        "\n",
        "matcher.add('Busqueda1', None, patron1, patron2)\n",
        "\n",
        "with open('frases.txt') as fichero:\n",
        "  datos_fichero = fichero.read()\n",
        "  doc = nlp(datos_fichero)\n",
        "\n",
        "type(doc)\n"
      ],
      "execution_count": null,
      "outputs": []
    },
    {
      "cell_type": "code",
      "metadata": {
        "id": "H3-krpefJgUw"
      },
      "source": [
        "coincidencias = matcher(doc)\n",
        "\n",
        "for id, inicio, fin in coincidencias:\n",
        "  id_str = nlp.vocab.strings[id]\n",
        "  palabra = doc[inicio:fin]\n",
        "  print(id, id_str, inicio, fin, palabra.text)"
      ],
      "execution_count": null,
      "outputs": []
    },
    {
      "cell_type": "code",
      "metadata": {
        "colab": {
          "base_uri": "https://localhost:8080/",
          "height": 35
        },
        "id": "wChfBuAFKRhr",
        "outputId": "9a852a75-8af7-4618-b065-ea9e638ded2d"
      },
      "source": [
        "#Etiquetas\n",
        "\n",
        "documento = nlp(\"El perro salto sobre la valla del jardin\")\n",
        "documento[0].text\n",
        "#documento[0].pos_\n",
        "#documento[0].tag_\n"
      ],
      "execution_count": null,
      "outputs": [
        {
          "output_type": "execute_result",
          "data": {
            "application/vnd.google.colaboratory.intrinsic+json": {
              "type": "string"
            },
            "text/plain": [
              "'El'"
            ]
          },
          "metadata": {
            "tags": []
          },
          "execution_count": 18
        }
      ]
    },
    {
      "cell_type": "code",
      "metadata": {
        "colab": {
          "base_uri": "https://localhost:8080/"
        },
        "id": "Hwh-vcnDK7Ok",
        "outputId": "c388106e-ba9b-4f76-ebb3-baf34c8b4a88"
      },
      "source": [
        "for palabra in documento:\n",
        "  print(f\"{palabra.text :{10}} {palabra.pos_ :{10}}  {palabra.tag_}\")"
      ],
      "execution_count": null,
      "outputs": [
        {
          "output_type": "stream",
          "text": [
            "El         DET         DET__Definite=Def|Gender=Masc|Number=Sing|PronType=Art\n",
            "perro      NOUN        NOUN__Gender=Masc|Number=Sing\n",
            "salto      ADJ         ADJ__Gender=Masc|Number=Sing\n",
            "sobre      ADP         ADP__AdpType=Prep\n",
            "la         DET         DET__Definite=Def|Gender=Fem|Number=Sing|PronType=Art\n",
            "valla      NOUN        NOUN__Gender=Fem|Number=Sing\n",
            "del        ADP         ADP__AdpType=Preppron|Gender=Masc|Number=Sing\n",
            "jardin     PROPN       PROPN___\n"
          ],
          "name": "stdout"
        }
      ]
    },
    {
      "cell_type": "code",
      "metadata": {
        "id": "Rn56AjxLLc2y"
      },
      "source": [
        "#.tag_ analiza el tiempo verbal de la palabra"
      ],
      "execution_count": null,
      "outputs": []
    },
    {
      "cell_type": "code",
      "metadata": {
        "colab": {
          "base_uri": "https://localhost:8080/"
        },
        "id": "gz0tfu1fM7V9",
        "outputId": "7d692c7b-317e-4a57-b180-e66242634629"
      },
      "source": [
        "contador = documento.count_by(spacy.attrs.POS)\n",
        "contador"
      ],
      "execution_count": null,
      "outputs": [
        {
          "output_type": "execute_result",
          "data": {
            "text/plain": [
              "{84: 1, 85: 2, 90: 2, 92: 2, 96: 1}"
            ]
          },
          "metadata": {
            "tags": []
          },
          "execution_count": 23
        }
      ]
    },
    {
      "cell_type": "code",
      "metadata": {
        "colab": {
          "base_uri": "https://localhost:8080/"
        },
        "id": "kKxZ_1v8NGA5",
        "outputId": "825fbcea-07fb-4e3a-fee2-d0724844ec58"
      },
      "source": [
        "#Contar ADJ ADP DET NOUN PROPN\n",
        "for i, v in sorted(contador.items()):\n",
        "  print(f\"{i} {documento.vocab[i].text} {v}\")"
      ],
      "execution_count": null,
      "outputs": [
        {
          "output_type": "stream",
          "text": [
            "84 ADJ 1\n",
            "85 ADP 2\n",
            "90 DET 2\n",
            "92 NOUN 2\n",
            "96 PROPN 1\n"
          ],
          "name": "stdout"
        }
      ]
    },
    {
      "cell_type": "code",
      "metadata": {
        "id": "KKL-qTZi0cY8"
      },
      "source": [
        "#Entidades\n",
        "#spacy.ents"
      ],
      "execution_count": null,
      "outputs": []
    }
  ]
}